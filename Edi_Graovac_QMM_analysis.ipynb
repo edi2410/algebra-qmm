{
 "cells": [
  {
   "cell_type": "markdown",
   "metadata": {},
   "source": [
    "# QUANTITATIVE METHODS AND MODELLING \n",
    "\n",
    "## Project Assignment 13  Edi Graovac\n",
    "\n",
    "The file cats.csv contains measurements of body weights and hearth weights for male and female \n",
    "cats: \n",
    "- sex – male (M) or female (F) \n",
    "- bwt – body weight in kg \n",
    "- hwt – heart weight in g \n",
    "\n",
    "The goal of your project assignment is to analyse heart weight with the emphasis on comparing male \n",
    "and female cats.\n",
    "1. Perform descriptive analysis of heart weight, separately for male and female cats. Descriptive \n",
    "analysis must include: \n",
    "    - mean, five number summary, range, interquartile range, and standard deviation, \n",
    "    - visualize the distribution of heart weight using appropriate plots. \n",
    "2. Test if heart weight is normally distributed both graphically and through hypothesis testing, \n",
    "separately for male and female cats. \n",
    "3. Compute 95% confidence interval for the mean and standard deviation of heart weight, \n",
    "separately for male and female cats. \n",
    "4. Test if the variances of heart weight between male and female are equal. \n",
    "5. Test if the means of heart weight between male and female are equal. \n",
    "6. Compute 95% confidence interval for the difference in the means of heart weight between \n",
    "male and female cats."
   ]
  },
  {
   "cell_type": "code",
   "execution_count": 20,
   "metadata": {},
   "outputs": [],
   "source": [
    "import pandas as pd\n",
    "import numpy as np\n",
    "import seaborn as sns\n",
    "import matplotlib.pyplot as plt\n",
    "from scipy import stats\n",
    "\n",
    "MAIN_VAR = 'hwt'"
   ]
  },
  {
   "cell_type": "code",
   "execution_count": 21,
   "metadata": {},
   "outputs": [
    {
     "name": "stdout",
     "output_type": "stream",
     "text": [
      "\n",
      "----------INFO----------\n",
      "<class 'pandas.core.frame.DataFrame'>\n",
      "RangeIndex: 59 entries, 0 to 58\n",
      "Data columns (total 3 columns):\n",
      " #   Column  Non-Null Count  Dtype  \n",
      "---  ------  --------------  -----  \n",
      " 0   sex     59 non-null     object \n",
      " 1   bwt     59 non-null     float64\n",
      " 2   hwt     59 non-null     float64\n",
      "dtypes: float64(2), object(1)\n",
      "memory usage: 1.5+ KB\n"
     ]
    }
   ],
   "source": [
    "#read and show data\n",
    "df = pd.read_csv('cats.csv', delimiter=';', header=0)\n",
    "\n",
    "print(\"\\n\" + \"-\"*10 + 'INFO' +\"-\"*10)\n",
    "df.info()\n",
    "\n"
   ]
  },
  {
   "cell_type": "markdown",
   "metadata": {},
   "source": [
    "------ "
   ]
  },
  {
   "cell_type": "markdown",
   "metadata": {},
   "source": [
    "### 1. Perform descriptive analysis of heart weight, separately for male and female cats. Descriptive analysis must include: \n",
    "- mean, five number summary, range, interquartile range, and standard deviation, \n",
    "- visualize the distribution of heart weight using appropriate plots. "
   ]
  },
  {
   "cell_type": "code",
   "execution_count": 22,
   "metadata": {},
   "outputs": [
    {
     "data": {
      "text/html": [
       "<div>\n",
       "<style scoped>\n",
       "    .dataframe tbody tr th:only-of-type {\n",
       "        vertical-align: middle;\n",
       "    }\n",
       "\n",
       "    .dataframe tbody tr th {\n",
       "        vertical-align: top;\n",
       "    }\n",
       "\n",
       "    .dataframe thead th {\n",
       "        text-align: right;\n",
       "    }\n",
       "</style>\n",
       "<table border=\"1\" class=\"dataframe\">\n",
       "  <thead>\n",
       "    <tr style=\"text-align: right;\">\n",
       "      <th></th>\n",
       "      <th>sex</th>\n",
       "      <th>bwt</th>\n",
       "      <th>hwt</th>\n",
       "    </tr>\n",
       "  </thead>\n",
       "  <tbody>\n",
       "    <tr>\n",
       "      <th>27</th>\n",
       "      <td>M</td>\n",
       "      <td>3.1</td>\n",
       "      <td>11.7</td>\n",
       "    </tr>\n",
       "    <tr>\n",
       "      <th>28</th>\n",
       "      <td>M</td>\n",
       "      <td>3.2</td>\n",
       "      <td>10.0</td>\n",
       "    </tr>\n",
       "    <tr>\n",
       "      <th>29</th>\n",
       "      <td>M</td>\n",
       "      <td>3.6</td>\n",
       "      <td>11.9</td>\n",
       "    </tr>\n",
       "    <tr>\n",
       "      <th>30</th>\n",
       "      <td>M</td>\n",
       "      <td>3.3</td>\n",
       "      <td>12.2</td>\n",
       "    </tr>\n",
       "    <tr>\n",
       "      <th>31</th>\n",
       "      <td>M</td>\n",
       "      <td>3.6</td>\n",
       "      <td>13.3</td>\n",
       "    </tr>\n",
       "  </tbody>\n",
       "</table>\n",
       "</div>"
      ],
      "text/plain": [
       "   sex  bwt   hwt\n",
       "27   M  3.1  11.7\n",
       "28   M  3.2  10.0\n",
       "29   M  3.6  11.9\n",
       "30   M  3.3  12.2\n",
       "31   M  3.6  13.3"
      ]
     },
     "execution_count": 22,
     "metadata": {},
     "output_type": "execute_result"
    }
   ],
   "source": [
    "#'separately for male and female cats' \n",
    "\n",
    "df_male = df[df[\"sex\"] == \"M\"]\n",
    "df_female = df[df[\"sex\"] == \"F\"]\n",
    "\n",
    "df_male.head()\n",
    "#df_female.head()"
   ]
  },
  {
   "cell_type": "markdown",
   "metadata": {},
   "source": [
    "#### Mean "
   ]
  },
  {
   "cell_type": "code",
   "execution_count": 23,
   "metadata": {},
   "outputs": [
    {
     "name": "stdout",
     "output_type": "stream",
     "text": [
      "\n",
      "----------MEAN----------\n",
      "hwt_male_mean: 11.35625\n",
      "hwt_female_mean: 8.925925925925926\n",
      "--------------------\n"
     ]
    }
   ],
   "source": [
    "hwt_male_mean = np.mean(df_male[MAIN_VAR])\n",
    "hwt_female_mean = np.mean(df_female[MAIN_VAR])\n",
    "\n",
    "print(\"\\n\" + \"-\"*10 + 'MEAN' + \"-\"*10)\n",
    "print('hwt_male_mean:', hwt_male_mean)\n",
    "print('hwt_female_mean:', hwt_female_mean)\n",
    "print(\"-\"*20)\n"
   ]
  },
  {
   "cell_type": "markdown",
   "metadata": {},
   "source": [
    "#### Median"
   ]
  },
  {
   "cell_type": "code",
   "execution_count": null,
   "metadata": {},
   "outputs": [],
   "source": []
  },
  {
   "cell_type": "code",
   "execution_count": 24,
   "metadata": {},
   "outputs": [
    {
     "name": "stdout",
     "output_type": "stream",
     "text": [
      "\n",
      "----------MEDIAN----------\n",
      "hwt_male_median: 11.5\n",
      "hwt_female_media: 9.2\n",
      "--------------------\n"
     ]
    }
   ],
   "source": [
    "hwt_male_median = np.median(df_male[MAIN_VAR])\n",
    "hwt_female_media = np.median(df_female[MAIN_VAR])\n",
    "\n",
    "print(\"\\n\" + \"-\"*10 + 'MEDIAN' + \"-\"*10)\n",
    "print('hwt_male_median:', hwt_male_median)\n",
    "print('hwt_female_media:', hwt_female_media)\n",
    "print(\"-\"*20)\n",
    "\n",
    "\n"
   ]
  },
  {
   "cell_type": "markdown",
   "metadata": {},
   "source": [
    "#### Five number summary\n"
   ]
  },
  {
   "cell_type": "code",
   "execution_count": 25,
   "metadata": {},
   "outputs": [
    {
     "name": "stdout",
     "output_type": "stream",
     "text": [
      "\n",
      "----------FIVE NUMBER SUMMARY for male----------\n",
      "     bwt    hwt\n",
      "min  1.9   8.10\n",
      "25%  2.9  10.40\n",
      "50%  3.2  11.50\n",
      "75%  3.5  12.25\n",
      "max  4.0  13.40\n",
      "\n",
      "----------FIVE NUMBER SUMMARY for female----------\n",
      "      bwt    hwt\n",
      "min  1.80   5.20\n",
      "25%  2.05   7.95\n",
      "50%  2.40   9.20\n",
      "75%  2.60  10.00\n",
      "max  3.00  10.90\n"
     ]
    }
   ],
   "source": [
    "df_male_five_summary = df_male.describe().loc[['min', '25%', '50%', '75%', 'max']]\n",
    "df_female_five_summary = df_female.describe().loc[['min', '25%', '50%', '75%', 'max']]\n",
    "\n",
    "print(\"\\n\" + \"-\"*10 + 'FIVE NUMBER SUMMARY for male' + \"-\"*10)\n",
    "print(df_male_five_summary)\n",
    "print(\"\\n\" + \"-\"*10 + 'FIVE NUMBER SUMMARY for female' + \"-\"*10)\n",
    "print(df_female_five_summary)\n"
   ]
  },
  {
   "cell_type": "markdown",
   "metadata": {},
   "source": [
    "#### Range\n"
   ]
  },
  {
   "cell_type": "code",
   "execution_count": 26,
   "metadata": {},
   "outputs": [
    {
     "name": "stdout",
     "output_type": "stream",
     "text": [
      "\n",
      "----------RANGE----------\n",
      "df_male_range: 5.300000000000001\n",
      "df_female_range: 5.7\n"
     ]
    }
   ],
   "source": [
    "df_male_range = df_male[MAIN_VAR].max() - df_male[MAIN_VAR].min()\n",
    "df_female_range = df_female[MAIN_VAR].max() - df_female[MAIN_VAR].min()\n",
    "\n",
    "print(\"\\n\" + \"-\"*10 + 'RANGE' + \"-\"*10)\n",
    "print(\"df_male_range:\", df_male_range)\n",
    "print(\"df_female_range:\", df_female_range)"
   ]
  },
  {
   "cell_type": "markdown",
   "metadata": {},
   "source": [
    "#### Interquantile range"
   ]
  },
  {
   "cell_type": "code",
   "execution_count": 27,
   "metadata": {},
   "outputs": [
    {
     "name": "stdout",
     "output_type": "stream",
     "text": [
      "\n",
      "----------IQR for male----------\n",
      "df_male_iqr: 1.8499999999999996\n",
      "df_female_iqr: 2.05\n"
     ]
    }
   ],
   "source": [
    "print(\"\\n\" + \"-\"*10 + 'IQR for male' + \"-\"*10)\n",
    "\n",
    "# ##IQR from five number summary\n",
    "# print(df_male_five_summary[MAIN_VAR][\"75%\"] - df_male_five_summary[MAIN_VAR][\"25%\"])\n",
    "# print(df_female_five_summary[MAIN_VAR][\"75%\"] - df_female_five_summary[MAIN_VAR][\"25%\"])\n",
    "\n",
    "\n",
    "##IQR from numpy\n",
    "q75, q25 = np.percentile(df_male[MAIN_VAR], [75 ,25])\n",
    "df_male_iqr = q75 - q25\n",
    "\n",
    "q75, q25 = np.percentile(df_female_five_summary[MAIN_VAR], [75 ,25])\n",
    "df_female_iqr = q75 - q25\n",
    "\n",
    "print('df_male_iqr:', df_male_iqr)\n",
    "print('df_female_iqr:' ,df_female_iqr)"
   ]
  },
  {
   "cell_type": "code",
   "execution_count": null,
   "metadata": {},
   "outputs": [],
   "source": []
  },
  {
   "cell_type": "code",
   "execution_count": 28,
   "metadata": {},
   "outputs": [
    {
     "name": "stdout",
     "output_type": "stream",
     "text": [
      "\n",
      "----------STANDARD DEVIATION----------\n",
      "df_male_std: 1.2883947133933762\n",
      "df_female_std: 1.370480476057128\n"
     ]
    }
   ],
   "source": [
    "print(\"\\n\" + \"-\"*10 + 'STANDARD DEVIATION' + \"-\"*10)\n",
    "df_male_std = np.std(df_male[MAIN_VAR])\n",
    "df_female_std = np.std(df_female[MAIN_VAR])\n",
    "print(\"df_male_std:\", df_male_std)\n",
    "print(\"df_female_std:\", df_female_std)\n",
    "\n"
   ]
  },
  {
   "cell_type": "markdown",
   "metadata": {},
   "source": [
    "#### visualize the distribution of heart weight using appropriate plots. "
   ]
  },
  {
   "cell_type": "code",
   "execution_count": 29,
   "metadata": {},
   "outputs": [
    {
     "data": {
      "image/png": "[encoded data removed]",
      "text/plain": [
       "<Figure size 1200x800 with 6 Axes>"
      ]
     },
     "metadata": {},
     "output_type": "display_data"
    }
   ],
   "source": [
    "fig, axes = plt.subplots(3, 2, figsize=(12, 8))\n",
    "\n",
    "sns.histplot(data=df_male, x=MAIN_VAR, kde=True, color='#1f77b4', bins=15, ax=axes[0][0])\n",
    "axes[0][0].set_title('Distribution of heart Weight (Male)')\n",
    "\n",
    "sns.kdeplot(data=df_male, x=MAIN_VAR, color = '#1f77b4', fill = 'True', ax=axes[1][0])\n",
    "axes[1][0].set_title('Distribution of heart Weight (Male)')\n",
    "\n",
    "sns.boxplot(data=df_male, x=MAIN_VAR, color='#1f77b4', ax=axes[2][0])\n",
    "axes[2][0].set_title('Boxplot of heart Weight (Male)')\n",
    "\n",
    "sns.histplot(data=df_female, x=MAIN_VAR, kde=True, color='#f22929', bins=15, ax=axes[0][1])\n",
    "axes[0][1].set_title('Distribution of heart Weight (Female)')\n",
    "\n",
    "sns.kdeplot(data=df_female, x=MAIN_VAR, color = '#f22929', fill = 'True', ax=axes[1][1])\n",
    "axes[1][1].set_title('Distribution of heart Weight (Female)')\n",
    "\n",
    "sns.boxplot(data=df_female, x=MAIN_VAR, color='#f22929', ax=axes[2][1])\n",
    "axes[2][1].set_title('Boxplot of heart Weight (Female)')\n",
    "\n",
    "plt.tight_layout()\n",
    "plt.show()"
   ]
  },
  {
   "cell_type": "markdown",
   "metadata": {},
   "source": [
    "-----------"
   ]
  },
  {
   "cell_type": "markdown",
   "metadata": {},
   "source": [
    "### 2. Test if heart weight is normally distributed both graphically and through hypothesis testing, separately for male and female cats. "
   ]
  },
  {
   "cell_type": "markdown",
   "metadata": {},
   "source": [
    "#### Graphical tests"
   ]
  },
  {
   "cell_type": "markdown",
   "metadata": {},
   "source": []
  },
  {
   "cell_type": "code",
   "execution_count": null,
   "metadata": {},
   "outputs": [
    {
     "data": {
      "image/png": "[encoded data removed]",
      "text/plain": [
       "<Figure size 1200x800 with 2 Axes>"
      ]
     },
     "metadata": {},
     "output_type": "display_data"
    }
   ],
   "source": [
    "fig, axes = plt.subplots(2, figsize=(12, 8))\n",
    "\n",
    "sns.histplot(data=df_male, x=MAIN_VAR, kde=True, color='#1f77b4', bins=15, ax=axes[0])\n",
    "axes[0].set_title('Distribution of heart Weight (Male)')\n",
    "axes[0].text(\n",
    "    0.05, -0.2, 'Histogram follows the normal curve. We conclude that male hwt is normally distributed.',\n",
    "    transform=axes[0].transAxes, fontsize=12, verticalalignment='top',\n",
    "    bbox=dict(facecolor='white', alpha=0.8, edgecolor='none')\n",
    ")\n",
    "\n",
    "sns.histplot(data=df_female, x=MAIN_VAR, kde=True, color='#f22929', bins=15, ax=axes[1])\n",
    "axes[0].set_title('Distribution of heart Weight (Female)')\n",
    "axes[1].text(\n",
    "    0.05, -0.2, 'Histogram follows the normal curve. We conclude that malfemalee hwt hwt is normally distributed',\n",
    "    transform=axes[1].transAxes, fontsize=12, verticalalignment='top',\n",
    "    bbox=dict(facecolor='white', alpha=0.8, edgecolor='none')\n",
    ")\n",
    "\n",
    "\n",
    "\n",
    "plt.tight_layout(h_pad=2)\n",
    "plt.show()"
   ]
  },
  {
   "cell_type": "markdown",
   "metadata": {},
   "source": [
    "Null Hypothesis ((H_0)): The data is normally distributed.\n",
    "\n",
    "Alternative Hypothesis ((H_a)): The data is not normally distributed."
   ]
  },
  {
   "cell_type": "code",
   "execution_count": 31,
   "metadata": {},
   "outputs": [
    {
     "name": "stdout",
     "output_type": "stream",
     "text": [
      "Normality test for Male heart weight:\n",
      "\n",
      "\n",
      "Shapiro Wilk test\n",
      "statistic=0.9645, p-value=0.3631\n",
      "Male heart weight appears to be normally distributed\n",
      "\n",
      "\n",
      "Kolmogorov-Smirnov test\n",
      "statistic=0.1076, p-value=0.8147\n",
      "Male heart weight appears to be normally distributed.\n",
      "\n",
      "\n",
      "Normality test for Female heart weight:\n",
      "\n",
      "\n",
      "Shapiro Wilk test\n",
      "statistic=0.9454, p-value=0.1657\n",
      "Female heart weight appears to be normally distributed\n",
      "\n",
      "\n",
      "Kolmogorov-Smirnov test\n",
      "statistic=0.0978, p-value=0.9363\n",
      "Female heart weight appears to be normally distributed.\n",
      "\n",
      "\n"
     ]
    }
   ],
   "source": [
    "def normality_test(data, var):\n",
    "    print(f\"Normality test for {var}:\")\n",
    "    print(\"\\n\")\n",
    "    \n",
    "    print(\"Shapiro Wilk test\")\n",
    "    shapiro_stat, shapiro_p_value = stats.shapiro(data)\n",
    "    print(f\"statistic={shapiro_stat:.4f}, p-value={shapiro_p_value:.4f}\")\n",
    "    if shapiro_p_value > 0.05:\n",
    "        print(f\"{var} appears to be normally distributed\")\n",
    "    else:\n",
    "        print(f\"{var} is not normally distributed\")\n",
    "      \n",
    "    print(\"\\n\")\n",
    "    print(\"Kolmogorov-Smirnov test\")\n",
    "    ks_stat, ks_p_value = stats.kstest(data, 'norm', args=(np.mean(data), np.std(data)))\n",
    "    print(f\"statistic={ks_stat:.4f}, p-value={ks_p_value:.4f}\")\n",
    "    if ks_p_value > 0.05:\n",
    "        print(f\"{var} appears to be normally distributed.\")\n",
    "        print(\"\\n\")\n",
    "    else:\n",
    "        print(f\"{var} is not normally distributed.\")\n",
    "        print(\"\\n\")\n",
    "\n",
    "normality_test(df_male[MAIN_VAR], \"Male heart weight\")\n",
    "normality_test(df_female[MAIN_VAR], \"Female heart weight\")"
   ]
  },
  {
   "cell_type": "markdown",
   "metadata": {},
   "source": [
    "### 2.  Compute 95% confidence interval for the mean and standard deviation of brain weight,separately for male and female cats."
   ]
  },
  {
   "cell_type": "code",
   "execution_count": null,
   "metadata": {},
   "outputs": [],
   "source": []
  },
  {
   "cell_type": "code",
   "execution_count": 32,
   "metadata": {},
   "outputs": [
    {
     "name": "stdout",
     "output_type": "stream",
     "text": [
      "Male heart weight:\n",
      "95% CI for the mean: [10.902709391675963, 11.809790608324036]\n",
      "95% CI for the standard deviation: [1.049437997673314, 1.7403025071375686]\n",
      "\n",
      "Female heart weight:\n",
      "95% CI for the mean: [8.399139870797722, 9.45271198105413]\n",
      "95% CI for the standard deviation: [1.0998353579014173, 1.9139272686947764]\n",
      "\n"
     ]
    }
   ],
   "source": [
    "import numpy as np\n",
    "from scipy.stats import norm, chi2\n",
    "\n",
    "def compute_confidence_intervals(data, var_name, conf_interval:float):\n",
    "    mean = np.mean(data)\n",
    "    std_dev = np.std(data, ddof=1) \n",
    "    n = len(data)\n",
    "    alpha = 1 - conf_interval\n",
    "    \n",
    "    # Compute 95% confidence interval for the mean\n",
    "    z_score = norm.ppf((1-alpha/2))  \n",
    "    MoE = z_score * std_dev / np.sqrt(n)\n",
    "    ci_mean = (mean - MoE, mean + MoE)\n",
    "    \n",
    "    # Compute 95% confidence interval for the standard deviation\n",
    "    chi2_lower = chi2.ppf(alpha/2, df=n-1)\n",
    "    chi2_upper = chi2.ppf(1-alpha/2, df=n-1)\n",
    "    ci_std_dev = (\n",
    "        np.sqrt((n-1) * std_dev**2 / chi2_upper), \n",
    "        np.sqrt((n-1) * std_dev**2 / chi2_lower)\n",
    "    )\n",
    "    \n",
    "    print(f\"{var_name}:\")\n",
    "    print(f\"95% CI for the mean: [{ci_mean[0]}, {ci_mean[1]}]\")\n",
    "    print(f\"95% CI for the standard deviation: [{ci_std_dev[0]}, {ci_std_dev[1]}]\\n\")\n",
    "\n",
    "# Calculate confidence intervals for male and female heart weights\n",
    "compute_confidence_intervals(df_male[MAIN_VAR], \"Male heart weight\", 0.95)\n",
    "compute_confidence_intervals(df_female[MAIN_VAR], \"Female heart weight\", 0.95)"
   ]
  },
  {
   "cell_type": "markdown",
   "metadata": {},
   "source": [
    "#### 4. Test if the variances of heart weight between male and female are equal. \n",
    "\n",
    "- Null Hypothesis ((H_0)):  the variances of heart weight between male and female are equal.\n",
    "\n",
    "- Alternative Hypothesis ((H_a)):  the variances of heart weight between male and female are not equal."
   ]
  },
  {
   "cell_type": "code",
   "execution_count": 47,
   "metadata": {},
   "outputs": [
    {
     "name": "stdout",
     "output_type": "stream",
     "text": [
      "Variance Equality Test between Male heart weight and Female heart weight:\n",
      "F-statistic: 0.8785\n",
      "Degrees of Freedom: 31, 26\n",
      "p-value: 0.6379\n",
      "Conclusion: Variances are equal.\n",
      "\n"
     ]
    }
   ],
   "source": [
    "def test_variance_equality(group1, group2, label1, label2):\n",
    "    print(f\"Variance Equality Test between {label1} and {label2}:\")\n",
    "\n",
    "    # Calculate variances\n",
    "    s1_squared = np.sum((group1 - np.mean(group1))**2) / (group1.size - 1)\n",
    "    s2_squared = np.sum((group2 - np.mean(group2))**2) / (group2.size - 1)\n",
    "\n",
    "    # Compute F-statistic\n",
    "    F = s1_squared / s2_squared\n",
    "    \n",
    "    # Compute degrees of freedom\n",
    "    df1 = group1.size - 1\n",
    "    df2 = group2.size - 1\n",
    "\n",
    "    p_value = 1-stats.f.cdf(F, group1.size-1, group2.size-1)\n",
    "\n",
    "    print(f\"F-statistic: {F:.4f}\")\n",
    "    print(f\"Degrees of Freedom: {df1}, {df2}\")\n",
    "\n",
    "    print(f\"p-value: {p_value:.4f}\")\n",
    "    if p_value > 0.05:\n",
    "        print(\"Conclusion: Variances are equal.\\n\")\n",
    "    else:\n",
    "        print(\"Conclusion: Variances are not equal.\\n\")\n",
    "        \n",
    "    \n",
    "test_variance_equality(df_male[MAIN_VAR], df_female[MAIN_VAR], \"Male heart weight\", \"Female heart weight\")"
   ]
  },
  {
   "cell_type": "markdown",
   "metadata": {},
   "source": [
    "#### 5. Test if the means of heart weight between male and female are equal. \n",
    "\n",
    "- Null Hypothesis ((H_0)):  the means of heart weight between male and female are equal.\n",
    "\n",
    "- Alternative Hypothesis ((H_a)):  the means of heart weight between male and female are not equal.\n"
   ]
  },
  {
   "cell_type": "code",
   "execution_count": 35,
   "metadata": {},
   "outputs": [
    {
     "name": "stdout",
     "output_type": "stream",
     "text": [
      "11.35625\n",
      "8.925925925925926\n",
      "Two-sample t-test (equal variances) between Male heart weight and Female heart weight:\n",
      "t-statistic: 6.8908\n",
      "p-value: 0.0000\n",
      "Conclusion: Means are significantly different.\n",
      "\n"
     ]
    }
   ],
   "source": [
    "\n",
    "def two_sample_t_test_equal_variances(group1, group2, label1, label2):\n",
    "    mean1 = np.mean(group1)\n",
    "    mean2 = np.mean(group2)\n",
    "    \n",
    "    var1 = np.var(group1, ddof=1)  \n",
    "    var2 = np.var(group2, ddof=1)\n",
    "    \n",
    "    n1 = len(group1)\n",
    "    n2 = len(group2)\n",
    "    \n",
    "    pooled_variance = ((n1 - 1) * var1 + (n2 - 1) * var2) / (n1 + n2 - 2)\n",
    "    pooled_std = np.sqrt(pooled_variance)\n",
    "    \n",
    "    standard_error = pooled_std * np.sqrt(1/n1 + 1/n2)\n",
    "    \n",
    "    t_statistic = (mean1 - mean2) / standard_error\n",
    "    \n",
    "    df = n1 + n2 - 2\n",
    "    \n",
    "    \n",
    "    print(mean1)\n",
    "    print(mean2)\n",
    "    \n",
    "    \n",
    "    \n",
    "    p_value = 2 * (1 - stats.t.cdf(np.abs(t_statistic), df=df))\n",
    "    \n",
    "    print(f\"Two-sample t-test (equal variances) between {label1} and {label2}:\")\n",
    "    print(f\"t-statistic: {t_statistic:.4f}\")\n",
    "    print(f\"p-value: {p_value:.4f}\")\n",
    "    \n",
    "    if p_value > 0.05:\n",
    "        print(\"Conclusion: Means are not significantly different.\\n\")\n",
    "        \n",
    "    else:\n",
    "        print(\"Conclusion: Means are significantly different.\\n\")\n",
    "\n",
    "two_sample_t_test_equal_variances(df_male[MAIN_VAR], df_female[MAIN_VAR], \"Male heart weight\", \"Female heart weight\")"
   ]
  },
  {
   "cell_type": "markdown",
   "metadata": {},
   "source": [
    "#### 6. Compute 95% confidence interval for the difference in the means of heart weight between male and female cats."
   ]
  },
  {
   "cell_type": "code",
   "execution_count": 36,
   "metadata": {},
   "outputs": [
    {
     "name": "stdout",
     "output_type": "stream",
     "text": [
      "95% CI for the difference in means:\n",
      "(np.float64(1.7351962935355072), np.float64(3.12545185461264))\n",
      "\n"
     ]
    }
   ],
   "source": [
    "def compute_difference_in_means_ci(data1, data2):\n",
    "    mean_diff = np.mean(data1) - np.mean(data2)\n",
    "    n1, n2 = len(data1), len(data2)\n",
    "    \n",
    "\n",
    "    var1, var2 = np.var(data1, ddof=1), np.var(data2, ddof=1)\n",
    "    se_diff = np.sqrt(var1/n1 + var2/n2)\n",
    "    \n",
    "    # 95% CI using the normal distribution\n",
    "    z_score = norm.ppf(0.975)\n",
    "    ci_diff = (mean_diff - z_score * se_diff, mean_diff + z_score * se_diff)\n",
    "    \n",
    "    print(f\"95% CI for the difference in means:\\n{ci_diff}\\n\")\n",
    "\n",
    "compute_difference_in_means_ci(df_male[MAIN_VAR], df_female[MAIN_VAR])"
   ]
  },
  {
   "cell_type": "code",
   "execution_count": null,
   "metadata": {},
   "outputs": [],
   "source": []
  },
  {
   "cell_type": "code",
   "execution_count": null,
   "metadata": {},
   "outputs": [],
   "source": []
  }
 ],
 "metadata": {
  "kernelspec": {
   "display_name": ".venv",
   "language": "python",
   "name": "python3"
  },
  "language_info": {
   "codemirror_mode": {
    "name": "ipython",
    "version": 3
   },
   "file_extension": ".py",
   "mimetype": "text/x-python",
   "name": "python",
   "nbconvert_exporter": "python",
   "pygments_lexer": "ipython3",
   "version": "3.12.6"
  }
 },
 "nbformat": 4,
 "nbformat_minor": 2
}
